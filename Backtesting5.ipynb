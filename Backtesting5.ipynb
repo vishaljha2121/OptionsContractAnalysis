{
 "cells": [
  {
   "cell_type": "markdown",
   "metadata": {},
   "source": [
    "# NR7 Strategy"
   ]
  },
  {
   "cell_type": "markdown",
   "metadata": {},
   "source": [
    "1. Identify the lowest range day among the last 6 trading days. \n",
    "2. Go long at the close if today's range is the narrowest. \n",
    "3. Exit at the close when today's close is higher than yesterday's high."
   ]
  },
  {
   "cell_type": "code",
   "execution_count": 1,
   "metadata": {},
   "outputs": [],
   "source": [
    "import numpy as np\n",
    "import pandas as pd"
   ]
  },
  {
   "cell_type": "code",
   "execution_count": 2,
   "metadata": {},
   "outputs": [
    {
     "name": "stdout",
     "output_type": "stream",
     "text": [
      "                   Open         High          Low        Close  Volume\n",
      "Date                                                                  \n",
      "2007-09-17  4518.450195  4549.049805  4482.850098  4494.649902     0.0\n",
      "2007-09-18  4494.100098  4551.799805  4481.549805  4546.200195     0.0\n",
      "2007-09-19  4550.250000  4739.000000  4550.250000  4732.350098     0.0\n",
      "2007-09-20  4734.850098  4760.850098  4721.149902  4747.549805     0.0\n",
      "2007-09-21  4752.950195  4855.700195  4733.700195  4837.549805     0.0\n",
      "##############################\n",
      "                    Open          High           Low         Close    Volume\n",
      "Date                                                                        \n",
      "2023-12-04  20601.949219  20702.650391  20507.750000  20686.800781  381100.0\n",
      "2023-12-05  20808.900391  20864.050781  20711.150391  20855.099609  421000.0\n",
      "2023-12-06  20950.750000  20961.949219  20852.150391  20937.699219  359200.0\n",
      "2023-12-07  20932.400391  20941.250000  20850.800781  20901.150391  275000.0\n",
      "2023-12-08  20934.099609  21006.099609  20862.699219  20969.400391  292400.0\n",
      "##############################\n",
      "<class 'pandas.core.frame.DataFrame'>\n",
      "DatetimeIndex: 3978 entries, 2007-09-17 to 2023-12-08\n",
      "Data columns (total 5 columns):\n",
      " #   Column  Non-Null Count  Dtype  \n",
      "---  ------  --------------  -----  \n",
      " 0   Open    3978 non-null   float64\n",
      " 1   High    3978 non-null   float64\n",
      " 2   Low     3978 non-null   float64\n",
      " 3   Close   3978 non-null   float64\n",
      " 4   Volume  3978 non-null   float64\n",
      "dtypes: float64(5)\n",
      "memory usage: 186.5 KB\n",
      "None\n"
     ]
    }
   ],
   "source": [
    "# Importing the dataset\n",
    "data = pd.read_csv('./Candle_data/^NSEI-MAX.csv', index_col=0, parse_dates=True)\n",
    "data = data.dropna()\n",
    "data = data[['Open', 'High', 'Low', 'Close', 'Volume']]\n",
    "\n",
    "print(data.head())\n",
    "print('#' * 30)\n",
    "print(data.tail())\n",
    "print('#' * 30)\n",
    "print(data.info())"
   ]
  },
  {
   "cell_type": "code",
   "execution_count": 3,
   "metadata": {},
   "outputs": [
    {
     "name": "stdout",
     "output_type": "stream",
     "text": [
      "Total returns:  1184.801036000004\n"
     ]
    }
   ],
   "source": [
    "# Strategy rules,\n",
    "# 1. Identify the lowest range day among the last 6 trading days. \n",
    "# 2. Go long at the close if today's range is the narrowest. \n",
    "# 3. Exit at the close when today's close is higher than yesterday's high.\n",
    "\n",
    "# 1. Identify the lowest range day among the last 6 trading days.\n",
    "data['Range'] = data['High'] - data['Low']\n",
    "\n",
    "returns =[]\n",
    "# Loop through the data and create buy and sell orders\n",
    "for i in range(6, len(data)):\n",
    "    # 2. Go long at the close if today's range is the narrowest.\n",
    "    if data['Range'][i] < min(data['Range'][i-6:i]):\n",
    "        # print('Buy at the close: ', data['Close'][i])\n",
    "        # Buy at the close\n",
    "        buy_price = data['Close'][i]\n",
    "        # 3. Exit at the close when today's close is higher than yesterday's high.\n",
    "        sell_price = data['Close'][i+1]\n",
    "        returns.append(sell_price - buy_price)\n",
    "    else:\n",
    "        returns.append(0)\n",
    "# print(returns)\n",
    "\n",
    "# Calculate the total returns\n",
    "total_returns = np.sum(returns)\n",
    "print('Total returns: ', total_returns)"
   ]
  },
  {
   "cell_type": "code",
   "execution_count": 10,
   "metadata": {},
   "outputs": [
    {
     "name": "stdout",
     "output_type": "stream",
     "text": [
      "Number of trades:  612\n",
      "Average returns:  1.9359494052287647\n",
      "Winning trades:  309\n",
      "Sharpe ratio:  0.7370179936062535\n",
      "Maximum drawdown:  0.0\n",
      "Maximum drawdown duration:  0\n",
      "Average returns per trade:  1.9359494052287647\n"
     ]
    }
   ],
   "source": [
    "# Calculate the number of trades\n",
    "num_trades = len(list(filter(lambda x: x != 0, returns)))\n",
    "print('Number of trades: ', num_trades)\n",
    "\n",
    "# Calculate the average returns\n",
    "avg_returns = total_returns / num_trades\n",
    "print('Average returns: ', avg_returns)\n",
    "\n",
    "# Calculate the winning trades\n",
    "winning_trades = len(list(filter(lambda x: x > 0, returns)))\n",
    "print('Winning trades: ', winning_trades)\n",
    "\n",
    "# Calculate the sharpe ratio\n",
    "sharpe_ratio_after_costs = np.sqrt(252) * ((avg_returns - 0.007) / np.std(returns))\n",
    "print('Sharpe ratio: ', sharpe_ratio_after_costs)\n",
    "\n",
    "# Calculate the maximum drawdown\n",
    "cum_returns = np.cumsum(returns)\n",
    "highwatermark = np.maximum.accumulate(cum_returns)\n",
    "drawdown = cum_returns - highwatermark\n",
    "max_drawdown = np.max(drawdown)\n",
    "print('Maximum drawdown: ', max_drawdown)\n",
    "\n",
    "# Calculate the maximum drawdown duration\n",
    "drawdown_duration = np.argmax(drawdown)\n",
    "print('Maximum drawdown duration: ', drawdown_duration)\n",
    "\n",
    "# Calculate the average returns per trade\n",
    "avg_returns_per_trade = total_returns / num_trades\n",
    "print('Average returns per trade: ', avg_returns_per_trade)"
   ]
  },
  {
   "cell_type": "code",
   "execution_count": 21,
   "metadata": {},
   "outputs": [
    {
     "data": {
      "image/png": "[encoded data removed]",
      "text/plain": [
       "<Figure size 432x288 with 1 Axes>"
      ]
     },
     "metadata": {
      "needs_background": "light"
     },
     "output_type": "display_data"
    }
   ],
   "source": [
    "# Plot the cumulative returns\n",
    "import matplotlib.pyplot as plt\n",
    "plt.plot(cum_returns)\n",
    "plt.title('Cumulative returns')\n",
    "plt.xlabel('Trades')\n",
    "plt.ylabel('Cumulative returns')\n",
    "plt.show()"
   ]
  }
 ],
 "metadata": {
  "kernelspec": {
   "display_name": "ai",
   "language": "python",
   "name": "python3"
  },
  "language_info": {
   "codemirror_mode": {
    "name": "ipython",
    "version": 3
   },
   "file_extension": ".py",
   "mimetype": "text/x-python",
   "name": "python",
   "nbconvert_exporter": "python",
   "pygments_lexer": "ipython3",
   "version": "3.7.9"
  }
 },
 "nbformat": 4,
 "nbformat_minor": 2
}
