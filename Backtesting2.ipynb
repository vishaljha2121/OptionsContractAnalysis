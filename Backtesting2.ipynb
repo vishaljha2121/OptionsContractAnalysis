{
 "cells": [
  {
   "cell_type": "markdown",
   "metadata": {},
   "source": [
    "## Year on year seasonal trend"
   ]
  },
  {
   "cell_type": "code",
   "execution_count": 1,
   "metadata": {},
   "outputs": [],
   "source": [
    "import numpy as np\n",
    "import pandas as pd"
   ]
  },
  {
   "cell_type": "code",
   "execution_count": 4,
   "metadata": {},
   "outputs": [
    {
     "name": "stdout",
     "output_type": "stream",
     "text": [
      "                  A       AA     AAPL     ABC  ABI      ABK      ABT    ACAS  \\\n",
      "Date                                                                           \n",
      "1999-11-24  41.1250  20.3772  23.6563  5.9980  NaN  31.1549  22.8971  7.6786   \n",
      "1999-11-26  41.1875  20.6142  23.7656  5.9980  NaN  31.1183  22.5998  7.6320   \n",
      "1999-11-29  42.0000  20.5352  23.6406  5.9675  NaN  30.6418  23.0086  7.5855   \n",
      "1999-11-30  42.1875  20.6932  24.4688  6.0284  NaN  31.9613  22.5998  7.4925   \n",
      "1999-12-01  43.0000  21.1078  25.7656  6.0588  NaN  33.5740  22.2652  7.5390   \n",
      "\n",
      "                ACE      ACS  ...      XEL       XL     XLNX      XOM  \\\n",
      "Date                          ...                                       \n",
      "1999-11-24  12.8492  19.0000  ...  14.8614  38.5249  43.8110  35.1539   \n",
      "1999-11-26  12.8492  18.7188  ...  14.9079  38.5249  43.5356  34.6541   \n",
      "1999-11-29  12.2246  18.7188  ...  14.8614  38.2478  46.8092  35.2650   \n",
      "1999-11-30  12.1353  18.7188  ...  15.0926  37.6935  43.8110  35.2372   \n",
      "1999-12-01  12.2692  18.7188  ...  15.0460  37.7859  43.7804  36.3201   \n",
      "\n",
      "                XRX     XTO     YHOO      YUM     ZION  ZMH  \n",
      "Date                                                         \n",
      "1999-11-24  26.7738  2.2456  57.7500  10.0716  51.6312  NaN  \n",
      "1999-11-26  26.7738  2.2215  56.7188   9.8871  51.6826  NaN  \n",
      "1999-11-29  26.2989  2.0403  56.5313   9.9640  50.7074  NaN  \n",
      "1999-11-30  25.7052  1.9679  53.1875  10.2100  53.0170  NaN  \n",
      "1999-12-01  25.3584  1.9317  57.2188  10.0101  53.6329  NaN  \n",
      "\n",
      "[5 rows x 500 columns]\n"
     ]
    }
   ],
   "source": [
    "# Read data\n",
    "\n",
    "df=pd.read_table('../SPX_20071123.txt')\n",
    "df['Date']=df['Date'].round().astype('int')\n",
    "df['Date']=pd.to_datetime(df['Date'], format='%Y%m%d')\n",
    "df.set_index('Date', inplace=True)\n",
    "\n",
    "print(df.head())"
   ]
  },
  {
   "cell_type": "code",
   "execution_count": 3,
   "metadata": {},
   "outputs": [
    {
     "name": "stdout",
     "output_type": "stream",
     "text": [
      "                   A        AA      AAPL       ABC  ABI       ABK       ABT  \\\n",
      "Date                                                                          \n",
      "1999-11-30       NaN       NaN       NaN       NaN  NaN       NaN       NaN   \n",
      "1999-12-31  0.832593  0.267180  0.050444  0.227274  NaN -0.042433 -0.044412   \n",
      "2000-01-31 -0.143897 -0.160396  0.009120  0.193418  NaN -0.062277 -0.087613   \n",
      "2000-02-29  0.566572 -0.000831  0.104821 -0.196546  NaN -0.093299  0.005755   \n",
      "2000-03-31  0.003014  0.029198  0.184839  0.030039  NaN  0.146513  0.082064   \n",
      "\n",
      "                ACAS       ACE       ACS  ...       XEL        XL      XLNX  \\\n",
      "Date                                      ...                                 \n",
      "1999-11-30       NaN       NaN       NaN  ...       NaN       NaN       NaN   \n",
      "1999-12-31  0.195916  0.003280  0.228711  ... -0.028252  0.017157  0.016060   \n",
      "2000-01-31  0.137360  0.059926 -0.135870  ... -0.012825 -0.125305  0.006187   \n",
      "2000-02-29 -0.072464  0.010601 -0.207547  ... -0.087636 -0.089161  0.743170   \n",
      "2000-03-31  0.111587  0.304582  0.192463  ...  0.131642  0.369401  0.038401   \n",
      "\n",
      "                 XOM       XRX       XTO      YHOO       YUM      ZION  ZMH  \n",
      "Date                                                                         \n",
      "1999-11-30       NaN       NaN       NaN       NaN       NaN       NaN  NaN  \n",
      "1999-12-31  0.015762 -0.155420 -0.108847  1.033784 -0.069275 -0.083253  NaN  \n",
      "2000-01-31  0.036463 -0.079889 -0.117238 -0.255670 -0.258895  0.010343  NaN  \n",
      "2000-02-29 -0.093000  0.038922  0.078096 -0.008344 -0.069876 -0.102536  NaN  \n",
      "2000-03-31  0.033197  0.210006  0.516597  0.073189  0.166662 -0.215549  NaN  \n",
      "\n",
      "[5 rows x 500 columns]\n",
      "(96, 500)\n"
     ]
    }
   ],
   "source": [
    "eomPrice=df.resample('M').last()[:-1] # End of month prices.  Need to remove last date because it isn't really end of January.\n",
    "monthlyRet=eomPrice.pct_change(1, fill_method=None)\n",
    "\n",
    "# Create a dataframe of positions.  Each row is a date, each column is a ticker.\n",
    "positions=np.zeros(monthlyRet.shape)\n",
    "\n",
    "print(monthlyRet.head())\n",
    "print(positions.shape)\n"
   ]
  },
  {
   "cell_type": "code",
   "execution_count": 5,
   "metadata": {},
   "outputs": [],
   "source": [
    "# Loop through each month and create positions, which is a matrix of 0, 1, or -1.\n",
    "\n",
    "for m in range(13, monthlyRet.shape[0]):\n",
    "    hasData=np.where(np.isfinite(monthlyRet.iloc[m-12, :]))[0]\n",
    "    sortidx=np.argsort(monthlyRet.iloc[m-12, hasData])  \n",
    "    badData=np.where(np.logical_not(np.isfinite(monthlyRet.iloc[m-1, hasData[sortidx]])))[0] # these are indices\n",
    "    sortidx.drop(sortidx.index[badData], inplace=True)\n",
    "    topN=np.floor(len(sortidx)/10).astype('int')\n",
    "    positions[m-1, hasData[sortidx.values[np.arange(0, topN)]]]=-1\n",
    "    positions[m-1, hasData[sortidx.values[np.arange(-topN,0)]]]=1\n"
   ]
  },
  {
   "cell_type": "code",
   "execution_count": 6,
   "metadata": {},
   "outputs": [],
   "source": [
    "# Calculate capital\n",
    "capital=np.nansum(np.array(pd.DataFrame(abs(positions)).shift()), axis=1) # capital is the sum of the absolute value of positions\n",
    "capital[capital==0]=1 # avoid divide by zero\n",
    "\n",
    "# Calculate returns\n",
    "ret=np.nansum(np.array(pd.DataFrame(positions).shift())*np.array(monthlyRet), axis=1)/capital\n",
    "ret=np.delete(ret, np.arange(13))\n",
    "\n",
    "avgret=np.nanmean(ret)*12 # annualized average return\n",
    "sharpe=np.sqrt(12)*np.nanmean(ret)/np.nanstd(ret)"
   ]
  },
  {
   "cell_type": "code",
   "execution_count": 8,
   "metadata": {},
   "outputs": [
    {
     "name": "stdout",
     "output_type": "stream",
     "text": [
      "Avg ann return=-0.012679 Sharpe ratio=-0.122247\n",
      "Max drawdown=0.060729\n"
     ]
    }
   ],
   "source": [
    "# Calculate drawdowns\n",
    "dd=np.zeros(ret.shape)\n",
    "for i in range(1, len(ret)):\n",
    "    dd[i]=np.nanmin(ret[:i])-ret[i]\n",
    "maxdd=np.nanmax(dd)\n",
    "\n",
    "print('Avg ann return=%f Sharpe ratio=%f' % (avgret, sharpe))\n",
    "print('Max drawdown=%f' % maxdd)\n"
   ]
  }
 ],
 "metadata": {
  "kernelspec": {
   "display_name": "ai",
   "language": "python",
   "name": "python3"
  },
  "language_info": {
   "codemirror_mode": {
    "name": "ipython",
    "version": 3
   },
   "file_extension": ".py",
   "mimetype": "text/x-python",
   "name": "python",
   "nbconvert_exporter": "python",
   "pygments_lexer": "ipython3",
   "version": "3.7.9"
  }
 },
 "nbformat": 4,
 "nbformat_minor": 2
}
