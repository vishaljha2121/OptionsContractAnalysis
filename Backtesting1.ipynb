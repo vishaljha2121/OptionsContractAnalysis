{
 "cells": [
  {
   "cell_type": "markdown",
   "metadata": {},
   "source": [
    "## January Effect"
   ]
  },
  {
   "cell_type": "code",
   "execution_count": 1,
   "metadata": {},
   "outputs": [],
   "source": [
    "import numpy as np\n",
    "import pandas as pd"
   ]
  },
  {
   "cell_type": "code",
   "execution_count": 7,
   "metadata": {},
   "outputs": [
    {
     "name": "stdout",
     "output_type": "stream",
     "text": [
      "               ABCW     ABFS      ABM     ACAT   ACLS      ACO   ACTL   ADPT  \\\n",
      "Date                                                                           \n",
      "2004-01-15  22.1609  30.9237  16.4747  26.4522  11.32  23.3373  26.93  10.10   \n",
      "2004-01-16  22.2135  30.2284  16.4129  25.7508  12.56  19.5716  27.92  10.50   \n",
      "2004-01-20  22.6166  30.6230  16.5188  26.3465  13.22  22.5940  28.00  11.05   \n",
      "2004-01-21  22.7393  30.9425  16.4394  26.4128  12.77  20.7356  27.00  10.68   \n",
      "2004-01-22  22.6867  31.4311  16.2541  25.6153  12.23  20.0216  27.05  10.18   \n",
      "\n",
      "              AEIS      AGL  ...      WTS       WW      WWW  WXS     XRIT  \\\n",
      "Date                         ...                                            \n",
      "2004-01-15  27.430  21.6689  ...  22.6328  24.3135  13.8953  NaN  11.8467   \n",
      "2004-01-16  27.390  21.5655  ...  22.2980  23.9795  13.7789  NaN  11.9759   \n",
      "2004-01-20  27.500  21.1893  ...  22.4851  24.2447  13.6109  NaN  12.6120   \n",
      "2004-01-21  26.780  21.1046  ...  22.5540  24.0188  13.6368  NaN  12.7014   \n",
      "2004-01-22  25.578  20.9259  ...  22.6033  24.1858  13.4623  NaN  12.6815   \n",
      "\n",
      "            ZEP     ZLC      ZNT    ZQK  ZUMZ  \n",
      "Date                                           \n",
      "2004-01-15  NaN  26.115  19.7760  8.865   NaN  \n",
      "2004-01-16  NaN  26.015  19.7346  8.970   NaN  \n",
      "2004-01-20  NaN  26.125  20.9153  8.965   NaN  \n",
      "2004-01-21  NaN  26.200  20.8976  8.935   NaN  \n",
      "2004-01-22  NaN  26.760  20.7441  8.775   NaN  \n",
      "\n",
      "[5 rows x 600 columns]\n"
     ]
    }
   ],
   "source": [
    "df = pd.read_table('../IJR_20080131.txt')   # Read in the data\n",
    "df['Date']=df['Date'].round().astype('int')\n",
    "df['Date']=pd.to_datetime(df['Date'], format='%Y%m%d')\n",
    "df.set_index('Date', inplace=True)\n",
    "\n",
    "print(df.head())"
   ]
  },
  {
   "cell_type": "code",
   "execution_count": 16,
   "metadata": {},
   "outputs": [],
   "source": [
    "onewaytcost = 0.0005\n",
    "\n",
    "eoyPrice=df.resample('Y').last()[0:-1] # End of December prices. Need to remove last date because it isn't really end of year\n",
    "annret=eoyPrice.pct_change().iloc[1:,:] # first row has NaN"
   ]
  },
  {
   "cell_type": "code",
   "execution_count": 17,
   "metadata": {},
   "outputs": [
    {
     "name": "stdout",
     "output_type": "stream",
     "text": [
      "                ABCW      ABFS       ABM      ACAT      ACLS       ACO  \\\n",
      "Date                                                                     \n",
      "2005-12-31  0.087914 -0.012011  0.053367 -0.227889 -0.413284  0.035435   \n",
      "2006-12-31 -0.045441 -0.169912  0.175543 -0.120588  0.222222  0.357349   \n",
      "2007-12-31 -0.177392 -0.388096 -0.097963 -0.321205 -0.210978  0.298846   \n",
      "\n",
      "                ACTL      ADPT      AEIS       AGL  ...       WTS        WW  \\\n",
      "Date                                                ...                       \n",
      "2005-12-31 -0.274230 -0.233202  0.295728 -0.370454  ... -0.053363  0.046887   \n",
      "2006-12-31  0.426551 -0.199313  0.595097  0.568103  ...  0.360628  0.622027   \n",
      "2007-12-31 -0.247797 -0.274678 -0.306836 -0.259690  ... -0.268412  0.029462   \n",
      "\n",
      "                 WWW       WXS      XRIT  ZEP       ZLC       ZNT       ZQK  \\\n",
      "Date                                                                          \n",
      "2005-12-31  0.095987       NaN -0.372979  NaN -0.158018  0.451642 -0.070829   \n",
      "2006-12-31  0.274234  0.416818  0.232848  NaN  0.121670  0.028681  0.138006   \n",
      "2007-12-31 -0.137510  0.138595 -0.055285  NaN -0.430698 -0.036753 -0.455238   \n",
      "\n",
      "                ZUMZ  \n",
      "Date                  \n",
      "2005-12-31       NaN  \n",
      "2006-12-31  0.366960  \n",
      "2007-12-31 -0.175355  \n",
      "\n",
      "[3 rows x 600 columns]\n",
      "##################################################\n",
      "[[ 0.03107191 -0.01991684 -0.01718767 ...  0.20482921  0.01300578\n",
      "   0.11846367]\n",
      " [ 0.03608702  0.06166452  0.13782272 ... -0.02579425 -0.09777778\n",
      "   0.11374408]\n",
      " [ 0.06292517  0.40337284  0.0161844  ... -0.10976973  0.11072261\n",
      "  -0.22281199]]\n"
     ]
    }
   ],
   "source": [
    "eojPrice=df.resample('BA-JAN').last()[1:-1] # End of January prices. Need to remove first date to match the years in lastdayofDec. Need to remove last date because it isn't really end of January.\n",
    "janret=(eojPrice.values-eoyPrice.values)/eoyPrice.values\n",
    "janret=janret[1:,] # match number of rows in annret\n",
    "\n",
    "print(annret.head())\n",
    "print('#'*50)\n",
    "print(janret[0:5,])\n"
   ]
  },
  {
   "cell_type": "code",
   "execution_count": 21,
   "metadata": {},
   "outputs": [
    {
     "name": "stdout",
     "output_type": "stream",
     "text": [
      "##################################################\n",
      "Last holding date 2006-01-31 00:00:00: Portfolio return=-0.023853\n",
      "##################################################\n",
      "Last holding date 2007-01-31 00:00:00: Portfolio return=-0.003641\n",
      "##################################################\n",
      "Last holding date 2008-01-31 00:00:00: Portfolio return=0.088486\n"
     ]
    }
   ],
   "source": [
    "for y in range(len(annret)):\n",
    "    hasData=np.where(np.isfinite(annret.iloc[y, :]))[0]\n",
    "    sortidx=np.argsort(annret.iloc[y, hasData])\n",
    "    topN=np.round(len(hasData)/10)\n",
    "    portRet=(np.nanmean(janret[y, hasData[sortidx.iloc[np.arange(0, topN)]]])-np.nanmean(janret[y, hasData[sortidx.iloc[np.arange(-topN+1, -1)]]]))/2-2*onewaytcost # portfolio returns\n",
    "\n",
    "\n",
    "    # print(\"Last holding date %s: Portfolio return=%f\" % (eojPrice.index[y+1], portRet))\n",
    "    # Print as a table with borders and headers\n",
    "    print('#'*50)\n",
    "    print(\"Last holding date %s: Portfolio return=%f\" % (eojPrice.index[y+1], portRet))"
   ]
  },
  {
   "cell_type": "code",
   "execution_count": null,
   "metadata": {},
   "outputs": [],
   "source": []
  }
 ],
 "metadata": {
  "kernelspec": {
   "display_name": "ai",
   "language": "python",
   "name": "python3"
  },
  "language_info": {
   "codemirror_mode": {
    "name": "ipython",
    "version": 3
   },
   "file_extension": ".py",
   "mimetype": "text/x-python",
   "name": "python",
   "nbconvert_exporter": "python",
   "pygments_lexer": "ipython3",
   "version": "3.7.9"
  }
 },
 "nbformat": 4,
 "nbformat_minor": 2
}
