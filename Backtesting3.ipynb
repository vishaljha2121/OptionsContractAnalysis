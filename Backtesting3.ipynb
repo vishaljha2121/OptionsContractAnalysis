{
 "cells": [
  {
   "cell_type": "markdown",
   "metadata": {},
   "source": [
    "# Turnaround tuesday strategy"
   ]
  },
  {
   "cell_type": "markdown",
   "metadata": {},
   "source": [
    "### Iteration 1"
   ]
  },
  {
   "cell_type": "markdown",
   "metadata": {},
   "source": [
    "1. Today is Monday.\n",
    "2. The close must be at least 1% lower than Friday’s close.\n",
    "3. If one and two are true, then enter at the close.\n",
    "4. Exit at the close on Tuesday."
   ]
  },
  {
   "cell_type": "code",
   "execution_count": 1,
   "metadata": {},
   "outputs": [],
   "source": [
    "import numpy as np\n",
    "import pandas as pd"
   ]
  },
  {
   "cell_type": "code",
   "execution_count": 2,
   "metadata": {},
   "outputs": [
    {
     "name": "stdout",
     "output_type": "stream",
     "text": [
      "         Date          Open          High           Low         Close  \\\n",
      "0  2023-12-07  20932.400391  20941.250000  20850.800781  20901.150391   \n",
      "1  2023-12-06  20950.750000  20961.949219  20852.150391  20937.699219   \n",
      "2  2023-12-05  20808.900391  20864.050781  20711.150391  20855.099609   \n",
      "3  2023-12-04  20601.949219  20702.650391  20507.750000  20686.800781   \n",
      "4  2023-12-01  20194.099609  20291.550781  20183.699219  20267.900391   \n",
      "\n",
      "      Adj Close    Volume  Day  \n",
      "0  20901.150391  275000.0    3  \n",
      "1  20937.699219  359200.0    2  \n",
      "2  20855.099609  421000.0    1  \n",
      "3  20686.800781  381100.0    0  \n",
      "4  20267.900391  265800.0    4  \n",
      "            Date          Open          High           Low         Close  \\\n",
      "1230  2018-12-14  10784.500000  10815.750000  10752.099609  10805.450195   \n",
      "1231  2018-12-13  10810.750000  10838.599609  10749.500000  10791.549805   \n",
      "1232  2018-12-12  10591.000000  10752.200195  10560.799805  10737.599609   \n",
      "1233  2018-12-11  10350.049805  10567.150391  10333.849609  10549.150391   \n",
      "1234  2018-12-10  10508.700195  10558.849609  10474.950195  10488.450195   \n",
      "\n",
      "         Adj Close    Volume  Day  \n",
      "1230  10805.450195  340100.0    4  \n",
      "1231  10791.549805  376200.0    3  \n",
      "1232  10737.599609  360500.0    2  \n",
      "1233  10549.150391  425500.0    1  \n",
      "1234  10488.450195  381300.0    0  \n",
      "(1232, 8)\n"
     ]
    }
   ],
   "source": [
    "# Importing the dataset\n",
    "\n",
    "dataset = pd.read_csv('./Candle_data/^NSEI-5Y.csv') # Daily candlestick data for <XYZ> stock for the last 5 years \n",
    "dataset = dataset.iloc[::-1] # Reverse the dataset\n",
    "dataset = dataset.reset_index(drop=True) # Reset the index\n",
    "dataset = dataset.dropna() # Drop the NaN values\n",
    "# Create a col for day of the week\n",
    "dataset['Day'] = pd.to_datetime(dataset['Date']).dt.dayofweek\n",
    "\n",
    "print(dataset.head())\n",
    "print(dataset.tail())\n",
    "print(dataset.shape)\n"
   ]
  },
  {
   "cell_type": "code",
   "execution_count": 3,
   "metadata": {},
   "outputs": [
    {
     "name": "stdout",
     "output_type": "stream",
     "text": [
      "Error at index:  757 Date:  2020-11-13\n",
      "Error at index:  1021 Date:  2019-10-24\n",
      "Error at index:  1219 Date:  2018-12-27\n"
     ]
    }
   ],
   "source": [
    "# Strategy rules,\n",
    "# 1. Today is Monday.\n",
    "# 2. The close must be at least 1% lower than Friday’s close.\n",
    "# 3. If one and two are true, then enter at the close.\n",
    "# 4. Exit at the close on Tuesday.\n",
    "\n",
    "# Looping through the dataset to find the trades that match the strategy rules\n",
    "\n",
    "trades = [] # List to store the trades\n",
    "# dataset has a column 'Day' which has the day of the week\n",
    "# Monday is 0 and Sunday is 6\n",
    "\n",
    "for i in range(0, len(dataset)-1):\n",
    "    try:\n",
    "        # print(dataset['Day'][i])\n",
    "        if dataset['Day'][i] == 0: # If today is Monday, we buy\n",
    "            if dataset['Close'][i] <= 0.99*dataset['Close'][i+1]: # If the close is at least 1% lower than Friday’s close\n",
    "                trades.append([dataset['Date'][i], dataset['Close'][i]]) # Enter at the close\n",
    "            else:\n",
    "                trades.append([dataset['Date'][i], None]) # No trade\n",
    "        elif dataset['Day'][i] == 1: # If today is Tuesday, we sell if we have a trade\n",
    "            # Check if a trade was entered yesterday\n",
    "            if trades[-1][1] != None:\n",
    "                trades.append([dataset['Date'][i], dataset['Close'][i]]) # Exit at the close\n",
    "            else:\n",
    "                trades.append([dataset['Date'][i], None])\n",
    "        else:\n",
    "            trades.append([dataset['Date'][i], None])\n",
    "    except:\n",
    "        print('Error at index: ', i, 'Date: ', dataset.iloc[i].Date)\n",
    "        trades.append([dataset.iloc[i].Day, None])\n",
    "        # Print the whole row\n",
    "        # print(dataset.iloc[i])\n",
    "        pass"
   ]
  },
  {
   "cell_type": "code",
   "execution_count": 4,
   "metadata": {},
   "outputs": [
    {
     "name": "stdout",
     "output_type": "stream",
     "text": [
      "         Date  Close\n",
      "0  2023-12-07    NaN\n",
      "1  2023-12-06    NaN\n",
      "2  2023-12-05    NaN\n",
      "3  2023-12-04    NaN\n",
      "4  2023-12-01    NaN\n",
      "##################################################\n",
      "            Date  Close\n",
      "1226  2018-12-20    NaN\n",
      "1227  2018-12-19    NaN\n",
      "1228  2018-12-18    NaN\n",
      "1229  2018-12-17    NaN\n",
      "1230  2018-12-14    NaN\n",
      "(1231, 2)\n",
      "Date      object\n",
      "Close    float64\n",
      "dtype: object\n"
     ]
    }
   ],
   "source": [
    "# Convert the trades list to a dataframe\n",
    "trades = pd.DataFrame(trades, columns=['Date', 'Close'])\n",
    "print(trades.head())\n",
    "print('#'*50)\n",
    "print(trades.tail())\n",
    "print(trades.shape)\n",
    "\n",
    "print(trades.dtypes)"
   ]
  },
  {
   "cell_type": "code",
   "execution_count": 5,
   "metadata": {},
   "outputs": [
    {
     "name": "stdout",
     "output_type": "stream",
     "text": [
      "         Date  Close  Returns  Cumulative Returns\n",
      "0  2023-12-07    NaN      NaN                 NaN\n",
      "1  2023-12-06    NaN      NaN                 NaN\n",
      "2  2023-12-05    NaN      NaN                 NaN\n",
      "3  2023-12-04    NaN      NaN                 NaN\n",
      "4  2023-12-01    NaN      NaN                 NaN\n"
     ]
    }
   ],
   "source": [
    "# Calculate the returns\n",
    "trades['Returns'] = trades['Close'].pct_change()\n",
    "\n",
    "# Calculate the cumulative returns\n",
    "trades['Cumulative Returns'] = (1 + trades['Returns']).cumprod()\n",
    "\n",
    "print(trades.head())"
   ]
  },
  {
   "cell_type": "code",
   "execution_count": 6,
   "metadata": {},
   "outputs": [
    {
     "data": {
      "image/png": "[encoded data removed]",
      "text/plain": [
       "<Figure size 432x288 with 1 Axes>"
      ]
     },
     "metadata": {
      "needs_background": "light"
     },
     "output_type": "display_data"
    },
    {
     "name": "stdout",
     "output_type": "stream",
     "text": [
      "Mean:  -0.00040178122079048196\n",
      "Sharpe ratio:  -0.029548699412892263\n",
      "Maximum drawdown:  -0.6053133144035164\n",
      "Annualized return:  -0.11175089518471715\n"
     ]
    }
   ],
   "source": [
    "# Plot the cumulative returns\n",
    "import matplotlib.pyplot as plt\n",
    "plt.plot(trades['Cumulative Returns'])\n",
    "# Label the axes\n",
    "plt.xlabel('Trades')\n",
    "plt.ylabel('Cumulative Returns')\n",
    "plt.show()\n",
    "\n",
    "# Calculate the Sharpe ratio\n",
    "# Sharpe ratio = (Mean portfolio return − Risk-free rate)/Standard deviation of portfolio return\n",
    "# Risk-free rate = 0.07\n",
    "# We will use the daily returns\n",
    "daily_returns = trades['Returns']\n",
    "sharpe_ratio = daily_returns.mean()/daily_returns.std()\n",
    "\n",
    "print(\"Mean: \", daily_returns.mean())\n",
    "print(\"Sharpe ratio: \", sharpe_ratio)\n",
    "\n",
    "# Calculate the maximum drawdown\n",
    "# Maximum drawdown = (Trough value − Peak value)/Peak value\n",
    "# We will use the cumulative returns\n",
    "cum_returns = trades['Cumulative Returns']\n",
    "# Calculate the running maximum\n",
    "running_max = np.maximum.accumulate(cum_returns.dropna())\n",
    "# Ensure the value never drops below 1\n",
    "running_max[running_max < 1] = 1\n",
    "# Calculate the percentage drawdown\n",
    "drawdown = (cum_returns)/running_max - 1\n",
    "\n",
    "print(\"Maximum drawdown: \", drawdown.min())\n",
    "\n",
    "# Calculate the annualized return\n",
    "# Annualized return = ((1 + cumulative return)^(1/years)) − 1\n",
    "# print it\n",
    "print(\"Annualized return: \", (cum_returns.iloc[-1]**(1/5))-1)\n"
   ]
  },
  {
   "cell_type": "markdown",
   "metadata": {},
   "source": [
    "### Iteration 2"
   ]
  },
  {
   "cell_type": "markdown",
   "metadata": {},
   "source": [
    "1. Today is Monday.\n",
    "2. The close must be lower than the open.\n",
    "3. The IBS must be below 0.2.\n",
    "4 If 1-3 are true, then enter at the close.\n",
    "5. Sell at Tuesday’s close."
   ]
  },
  {
   "cell_type": "code",
   "execution_count": 7,
   "metadata": {},
   "outputs": [
    {
     "name": "stdout",
     "output_type": "stream",
     "text": [
      "         Date          Open          High           Low         Close  \\\n",
      "0  2023-12-07  20932.400391  20941.250000  20850.800781  20901.150391   \n",
      "1  2023-12-06  20950.750000  20961.949219  20852.150391  20937.699219   \n",
      "2  2023-12-05  20808.900391  20864.050781  20711.150391  20855.099609   \n",
      "3  2023-12-04  20601.949219  20702.650391  20507.750000  20686.800781   \n",
      "4  2023-12-01  20194.099609  20291.550781  20183.699219  20267.900391   \n",
      "\n",
      "      Adj Close    Volume  Day       IBS  \n",
      "0  20901.150391  275000.0    3  0.556662  \n",
      "1  20937.699219  359200.0    2  0.779142  \n",
      "2  20855.099609  421000.0    1  0.941457  \n",
      "3  20686.800781  381100.0    0  0.918678  \n",
      "4  20267.900391  265800.0    4  0.780714  \n"
     ]
    }
   ],
   "source": [
    "# Iteratio 2 rules,\n",
    "# 1. Today is Monday.\n",
    "# 2. The close must be lower than the open.\n",
    "# 3. The IBS must be below 0.2.\n",
    "# 4. If 1-3 are true, then enter at the close.\n",
    "# 5. Sell at Tuesday’s close.\n",
    "\n",
    "# Reload the dataset\n",
    "dataset = pd.read_csv('./Candle_data/^NSEI-5Y.csv') # Daily candlestick data for <XYZ> stock for the last 5 years\n",
    "dataset = dataset.iloc[::-1] # Reverse the dataset\n",
    "dataset = dataset.reset_index(drop=True) # Reset the index\n",
    "dataset = dataset.dropna() # Drop the NaN values\n",
    "# Create a col for day of the week\n",
    "dataset['Day'] = pd.to_datetime(dataset['Date']).dt.dayofweek\n",
    "\n",
    "# Calculate the IBS\n",
    "# IBS = (Close − Low)/(High − Low)\n",
    "# We will use the daily data\n",
    "IBS = (dataset['Close'] - dataset['Low'])/(dataset['High'] - dataset['Low'])\n",
    "# Add the IBS to the dataset\n",
    "dataset['IBS'] = IBS\n",
    "\n",
    "print(dataset.head())"
   ]
  },
  {
   "cell_type": "code",
   "execution_count": 8,
   "metadata": {},
   "outputs": [
    {
     "name": "stdout",
     "output_type": "stream",
     "text": [
      "Error at index:  757 Date:  2020-11-13\n",
      "Error at index:  1021 Date:  2019-10-24\n",
      "Error at index:  1219 Date:  2018-12-27\n",
      "         Date  Close\n",
      "0  2023-12-07    NaN\n",
      "1  2023-12-06    NaN\n",
      "2  2023-12-05    NaN\n",
      "3  2023-12-04    NaN\n",
      "4  2023-12-01    NaN\n"
     ]
    }
   ],
   "source": [
    "# Looping through the dataset to find the trades that match the strategy rules\n",
    "\n",
    "trades = [] # List to store the trades\n",
    "# dataset has a column 'Day' which has the day of the week\n",
    "# Monday is 0 and Sunday is 6\n",
    "\n",
    "for i in range(0, len(dataset)-1):\n",
    "    try:\n",
    "        # print(dataset['Day'][i])\n",
    "        if dataset['Day'][i] == 0: # If today is Monday, we buy\n",
    "            if dataset['Close'][i] < dataset['Open'][i] and dataset['IBS'][i] < 0.2: # If the close is lower than the open and IBS is below 0.2\n",
    "                trades.append([dataset['Date'][i], dataset['Close'][i]]) # Enter at the close\n",
    "            else:\n",
    "                trades.append([dataset['Date'][i], None]) # No trade\n",
    "        elif dataset['Day'][i] == 1: # If today is Tuesday, we sell if we have a trade\n",
    "            # Check if a trade was entered yesterday\n",
    "            if trades[-1][1] != None:\n",
    "                trades.append([dataset['Date'][i], dataset['Close'][i]]) # Exit at the close\n",
    "            else:\n",
    "                trades.append([dataset['Date'][i], None])\n",
    "        else:\n",
    "            trades.append([dataset['Date'][i], None])\n",
    "    except:\n",
    "        print('Error at index: ', i, 'Date: ', dataset.iloc[i].Date)\n",
    "        trades.append([dataset.iloc[i].Day, None])\n",
    "        # Print the whole row\n",
    "        # print(dataset.iloc[i])\n",
    "        pass\n",
    "\n",
    "# Convert the trades list to a dataframe\n",
    "trades = pd.DataFrame(trades, columns=['Date', 'Close'])\n",
    "print(trades.head())"
   ]
  },
  {
   "cell_type": "code",
   "execution_count": 9,
   "metadata": {},
   "outputs": [
    {
     "name": "stdout",
     "output_type": "stream",
     "text": [
      "         Date  Close  Returns  Cumulative Returns\n",
      "0  2023-12-07    NaN      NaN                 NaN\n",
      "1  2023-12-06    NaN      NaN                 NaN\n",
      "2  2023-12-05    NaN      NaN                 NaN\n",
      "3  2023-12-04    NaN      NaN                 NaN\n",
      "4  2023-12-01    NaN      NaN                 NaN\n"
     ]
    }
   ],
   "source": [
    "# Calculate the returns\n",
    "trades['Returns'] = trades['Close'].pct_change()\n",
    "\n",
    "# Calculate the cumulative returns\n",
    "trades['Cumulative Returns'] = (1 + trades['Returns']).cumprod()\n",
    "\n",
    "print(trades.head())"
   ]
  },
  {
   "cell_type": "code",
   "execution_count": 10,
   "metadata": {},
   "outputs": [
    {
     "data": {
      "image/png": "[encoded data removed]",
      "text/plain": [
       "<Figure size 432x288 with 1 Axes>"
      ]
     },
     "metadata": {
      "needs_background": "light"
     },
     "output_type": "display_data"
    }
   ],
   "source": [
    "# Plot the cumulative returns\n",
    "import matplotlib.pyplot as plt\n",
    "\n",
    "plt.plot(trades['Cumulative Returns'])\n",
    "# Label the axes\n",
    "plt.xlabel('Trades')\n",
    "plt.ylabel('Cumulative Returns')\n",
    "plt.show()"
   ]
  }
 ],
 "metadata": {
  "kernelspec": {
   "display_name": "ai",
   "language": "python",
   "name": "python3"
  },
  "language_info": {
   "codemirror_mode": {
    "name": "ipython",
    "version": 3
   },
   "file_extension": ".py",
   "mimetype": "text/x-python",
   "name": "python",
   "nbconvert_exporter": "python",
   "pygments_lexer": "ipython3",
   "version": "3.7.9"
  }
 },
 "nbformat": 4,
 "nbformat_minor": 2
}
